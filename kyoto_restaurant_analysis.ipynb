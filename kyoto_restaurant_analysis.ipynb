{
 "cells": [
  {
   "cell_type": "code",
   "execution_count": 1,
   "metadata": {},
   "outputs": [],
   "source": [
    "import pandas as pd\n",
    "import numpy as np\n"
   ]
  },
  {
   "cell_type": "code",
   "execution_count": 2,
   "metadata": {},
   "outputs": [
    {
     "name": "stdout",
     "output_type": "stream",
     "text": [
      "<class 'pandas.core.frame.DataFrame'>\n",
      "   band  barrier_free  capacity  card  charter  child  course  \\\n",
      "0     0             0     100.0     1        1      1       1   \n",
      "1     0             0      42.0     0        1      1       1   \n",
      "2     0             0      34.0     1        0      2       1   \n",
      "3     1             0     130.0     0        1      0       1   \n",
      "4     0             0     170.0     1        0      2       1   \n",
      "\n",
      "       credit_card  english  free_drink  ...  tatami  tv  wifi  budget.code  \\\n",
      "0      [V,M,A,D,J]        1           1  ...       1   0     0       2500.0   \n",
      "1              NaN        0           1  ...       1   0     0       2500.0   \n",
      "2  [V,M,A,D,J,Dis]        0           0  ...       1   1     1       2500.0   \n",
      "3              NaN        1           1  ...       0   1     0       1750.0   \n",
      "4            [V,M]        1           1  ...       1   0     0       2500.0   \n",
      "\n",
      "   genre.code  large_area.code  large_service_area.code  middle_area.code  \\\n",
      "0     焼肉・ホルモン             Z022                     SS20              Y432   \n",
      "1        韓国料理             Z022                     SS20              Y432   \n",
      "2        韓国料理             Z022                     SS20              Y432   \n",
      "3  ダイニングバー・バル             Z022                     SS20              Y432   \n",
      "4         居酒屋             Z022                     SS20              Y432   \n",
      "\n",
      "  service_area.code  small_area.code  \n",
      "0              SA22             X430  \n",
      "1              SA22             X430  \n",
      "2              SA22             X430  \n",
      "3              SA22             X430  \n",
      "4              SA22             X430  \n",
      "\n",
      "[5 rows x 34 columns]\n"
     ]
    },
    {
     "name": "stderr",
     "output_type": "stream",
     "text": [
      "<ipython-input-2-1dd7defb69da>:10: FutureWarning: The default value of regex will change from True to False in a future version.\n",
      "  data['credit_card']=data['credit_card'].str.replace(\" {'code': 'c12', 'name': 'Discover'}\",'Dis')\n"
     ]
    }
   ],
   "source": [
    "data=pd.read_csv('/home/matsuo/semi_3_1/kyoto_restaurant_final.csv',encoding='shift_jis')\n",
    "\n",
    "data=pd.DataFrame(data)\n",
    "data = data[data['middle_area.code'] != 'Y437']\n",
    "data = data[data['middle_area.code'] != 'Y869']\n",
    "data=data[data['wifi']!='未確認']\n",
    "data=data[data['non_smoking']!='未確認']\n",
    "\n",
    "print(type(data))\n",
    "data['credit_card']=data['credit_card'].str.replace(\" {'code': 'c12', 'name': 'Discover'}\",'Dis')\n",
    "print(data[0:5])"
   ]
  },
  {
   "cell_type": "code",
   "execution_count": 3,
   "metadata": {},
   "outputs": [
    {
     "name": "stdout",
     "output_type": "stream",
     "text": [
      "<class 'pandas.core.series.Series'>\n"
     ]
    },
    {
     "data": {
      "text/plain": [
       "band                       False\n",
       "barrier_free               False\n",
       "capacity                    True\n",
       "card                       False\n",
       "charter                    False\n",
       "child                      False\n",
       "course                     False\n",
       "credit_card                 True\n",
       "english                    False\n",
       "free_drink                 False\n",
       "free_food                  False\n",
       "horigotatsu                False\n",
       "karaoke                    False\n",
       "ktai_coupon                False\n",
       "lat                        False\n",
       "lng                        False\n",
       "lunch                      False\n",
       "midnight                   False\n",
       "non_smoking                False\n",
       "parking                    False\n",
       "party_capacity              True\n",
       "pet                        False\n",
       "private_room               False\n",
       "show                       False\n",
       "tatami                     False\n",
       "tv                         False\n",
       "wifi                       False\n",
       "budget.code                 True\n",
       "genre.code                 False\n",
       "large_area.code            False\n",
       "large_service_area.code    False\n",
       "middle_area.code           False\n",
       "service_area.code          False\n",
       "small_area.code            False\n",
       "dtype: bool"
      ]
     },
     "execution_count": 3,
     "metadata": {},
     "output_type": "execute_result"
    }
   ],
   "source": [
    "p=data.isnull().any(axis=0)\n",
    "print(type(p))\n",
    "p"
   ]
  },
  {
   "cell_type": "code",
   "execution_count": null,
   "metadata": {},
   "outputs": [],
   "source": []
  },
  {
   "cell_type": "code",
   "execution_count": 4,
   "metadata": {},
   "outputs": [],
   "source": [
    "data=data.dropna(subset=['capacity','party_capacity','budget.code'])"
   ]
  },
  {
   "cell_type": "code",
   "execution_count": 5,
   "metadata": {},
   "outputs": [
    {
     "data": {
      "text/plain": [
       "band                       False\n",
       "barrier_free               False\n",
       "capacity                   False\n",
       "card                       False\n",
       "charter                    False\n",
       "child                      False\n",
       "course                     False\n",
       "credit_card                 True\n",
       "english                    False\n",
       "free_drink                 False\n",
       "free_food                  False\n",
       "horigotatsu                False\n",
       "karaoke                    False\n",
       "ktai_coupon                False\n",
       "lat                        False\n",
       "lng                        False\n",
       "lunch                      False\n",
       "midnight                   False\n",
       "non_smoking                False\n",
       "parking                    False\n",
       "party_capacity             False\n",
       "pet                        False\n",
       "private_room               False\n",
       "show                       False\n",
       "tatami                     False\n",
       "tv                         False\n",
       "wifi                       False\n",
       "budget.code                False\n",
       "genre.code                 False\n",
       "large_area.code            False\n",
       "large_service_area.code    False\n",
       "middle_area.code           False\n",
       "service_area.code          False\n",
       "small_area.code            False\n",
       "dtype: bool"
      ]
     },
     "execution_count": 5,
     "metadata": {},
     "output_type": "execute_result"
    }
   ],
   "source": [
    "data.isnull().any(axis=0)"
   ]
  },
  {
   "cell_type": "code",
   "execution_count": 6,
   "metadata": {},
   "outputs": [
    {
     "name": "stdout",
     "output_type": "stream",
     "text": [
      "<class 'pandas.core.frame.DataFrame'>\n",
      "Int64Index: 1808 entries, 0 to 2952\n",
      "Data columns (total 34 columns):\n",
      " #   Column                   Non-Null Count  Dtype  \n",
      "---  ------                   --------------  -----  \n",
      " 0   band                     1808 non-null   int64  \n",
      " 1   barrier_free             1808 non-null   int64  \n",
      " 2   capacity                 1808 non-null   float64\n",
      " 3   card                     1808 non-null   int64  \n",
      " 4   charter                  1808 non-null   int64  \n",
      " 5   child                    1808 non-null   int64  \n",
      " 6   course                   1808 non-null   int64  \n",
      " 7   credit_card              1337 non-null   object \n",
      " 8   english                  1808 non-null   int64  \n",
      " 9   free_drink               1808 non-null   int64  \n",
      " 10  free_food                1808 non-null   int64  \n",
      " 11  horigotatsu              1808 non-null   int64  \n",
      " 12  karaoke                  1808 non-null   int64  \n",
      " 13  ktai_coupon              1808 non-null   int64  \n",
      " 14  lat                      1808 non-null   float64\n",
      " 15  lng                      1808 non-null   float64\n",
      " 16  lunch                    1808 non-null   int64  \n",
      " 17  midnight                 1808 non-null   int64  \n",
      " 18  non_smoking              1808 non-null   object \n",
      " 19  parking                  1808 non-null   int64  \n",
      " 20  party_capacity           1808 non-null   float64\n",
      " 21  pet                      1808 non-null   int64  \n",
      " 22  private_room             1808 non-null   int64  \n",
      " 23  show                     1808 non-null   int64  \n",
      " 24  tatami                   1808 non-null   int64  \n",
      " 25  tv                       1808 non-null   int64  \n",
      " 26  wifi                     1808 non-null   object \n",
      " 27  budget.code              1808 non-null   float64\n",
      " 28  genre.code               1808 non-null   object \n",
      " 29  large_area.code          1808 non-null   object \n",
      " 30  large_service_area.code  1808 non-null   object \n",
      " 31  middle_area.code         1808 non-null   object \n",
      " 32  service_area.code        1808 non-null   object \n",
      " 33  small_area.code          1808 non-null   object \n",
      "dtypes: float64(5), int64(20), object(9)\n",
      "memory usage: 494.4+ KB\n",
      "1808\n"
     ]
    }
   ],
   "source": [
    "data.info()\n",
    "print(len(data))"
   ]
  },
  {
   "cell_type": "code",
   "execution_count": 7,
   "metadata": {},
   "outputs": [],
   "source": [
    "band=data.iloc[:,0]\n",
    "barrier_free=data.iloc[:,1]\n",
    "capacity=data.iloc[:,2]\n",
    "card=data.iloc[:,3]\n",
    "charter=data.iloc[:,4]\n",
    "child=data.iloc[:,5]\n",
    "course=data.iloc[:,6]\n",
    "credit_card=data.iloc[:,7]\n",
    "english=data.iloc[:,8]\n",
    "free_drink=data.iloc[:,9]\n",
    "free_food=data.iloc[:,10]\n",
    "horigotatu=data.iloc[:,11]\n",
    "karaoke=data.iloc[:,12]\n",
    "ktai_coupon=data.iloc[:,13]\n",
    "lat=data.iloc[:,14]\n",
    "lng=data.iloc[:,15]\n",
    "lunch=data.iloc[:,16]\n",
    "midnight=data.iloc[:,17]\n",
    "non_smoking=data.iloc[:,18]\n",
    "parking=data.iloc[:,19]\n",
    "party_capacity=data.iloc[:,20]\n",
    "pet=data.iloc[:,21]\n",
    "private_room=data.iloc[:,22]\n",
    "show=data.iloc[:,23]\n",
    "tatami=data.iloc[:,24]\n",
    "tv=data.iloc[:,25]\n",
    "wifi=data.iloc[:,26]\n",
    "budget=data.iloc[:,27]\n",
    "genre=data.iloc[:,28]\n",
    "large_area=data.iloc[:,29]\n",
    "large_survice=data.iloc[:,30]\n",
    "middle_area=data.iloc[:,31]\n",
    "service=data.iloc[:,32]\n",
    "small_area=data.iloc[:,33]"
   ]
  },
  {
   "cell_type": "code",
   "execution_count": 8,
   "metadata": {},
   "outputs": [
    {
     "name": "stdout",
     "output_type": "stream",
     "text": [
      "0        2500\n",
      "1        2500\n",
      "2        2500\n",
      "3        1750\n",
      "4        2500\n",
      "        ...  \n",
      "2946     6000\n",
      "2947     6000\n",
      "2948     3500\n",
      "2951    12500\n",
      "2952     1750\n",
      "Name: budget.code, Length: 1808, dtype: int64\n",
      "<class 'pandas.core.series.Series'>\n",
      "   band  barrier_free  capacity  card  charter  child  course  \\\n",
      "0     0             0     100.0     1        1      1       1   \n",
      "1     0             0      42.0     0        1      1       1   \n",
      "2     0             0      34.0     1        0      2       1   \n",
      "3     1             0     130.0     0        1      0       1   \n",
      "4     0             0     170.0     1        0      2       1   \n",
      "5     1             0      32.0     1        1      1       1   \n",
      "6     0             0      89.0     1        1      1       1   \n",
      "7     0             0     200.0     1        0      1       1   \n",
      "8     0             0      40.0     1        1      2       1   \n",
      "9     0             1     200.0     1        0      2       1   \n",
      "\n",
      "       credit_card  english  free_drink  ...  tatami  tv  wifi  budget.code  \\\n",
      "0      [V,M,A,D,J]        1           1  ...       1   0     0       2500.0   \n",
      "1              NaN        0           1  ...       1   0     0       2500.0   \n",
      "2  [V,M,A,D,J,Dis]        0           0  ...       1   1     1       2500.0   \n",
      "3              NaN        1           1  ...       0   1     0       1750.0   \n",
      "4            [V,M]        1           1  ...       1   0     0       2500.0   \n",
      "5      [V,M,A,D,J]        1           1  ...       0   1     1       3500.0   \n",
      "6    [V,M,A,D,J,G]        0           1  ...       0   0     0       3500.0   \n",
      "7          [V,M,J]        1           1  ...       1   0     0       3500.0   \n",
      "8      [V,M,A,D,J]        1           1  ...       1   0     1       4500.0   \n",
      "9            [V,M]        1           1  ...       0   1     1       2500.0   \n",
      "\n",
      "   genre.code  large_area.code  large_service_area.code  middle_area.code  \\\n",
      "0     焼肉・ホルモン             Z022                     SS20              Y432   \n",
      "1        韓国料理             Z022                     SS20              Y432   \n",
      "2        韓国料理             Z022                     SS20              Y432   \n",
      "3  ダイニングバー・バル             Z022                     SS20              Y432   \n",
      "4         居酒屋             Z022                     SS20              Y432   \n",
      "5  イタリアン・フレンチ             Z022                     SS20              Y432   \n",
      "6  イタリアン・フレンチ             Z022                     SS20              Y432   \n",
      "7     焼肉・ホルモン             Z022                     SS20              Y432   \n",
      "8     焼肉・ホルモン             Z022                     SS20              Y432   \n",
      "9         居酒屋             Z022                     SS20              Y432   \n",
      "\n",
      "  service_area.code  small_area.code  \n",
      "0              SA22             X430  \n",
      "1              SA22             X430  \n",
      "2              SA22             X430  \n",
      "3              SA22             X430  \n",
      "4              SA22             X430  \n",
      "5              SA22             X430  \n",
      "6              SA22             X430  \n",
      "7              SA22             X430  \n",
      "8              SA22             X430  \n",
      "9              SA22             X430  \n",
      "\n",
      "[10 rows x 34 columns]\n"
     ]
    }
   ],
   "source": [
    "budget=budget.astype(int)\n",
    "print(budget)\n",
    "print(type(budget))\n",
    "print(data[0:10])"
   ]
  },
  {
   "cell_type": "code",
   "execution_count": 9,
   "metadata": {},
   "outputs": [
    {
     "ename": "ModuleNotFoundError",
     "evalue": "No module named 'geocoder'",
     "output_type": "error",
     "traceback": [
      "\u001b[0;31m----------------------------------------------------------------\u001b[0m",
      "\u001b[0;31mModuleNotFoundError\u001b[0m            Traceback (most recent call last)",
      "\u001b[0;32m<ipython-input-9-2a1faef1b5bc>\u001b[0m in \u001b[0;36m<module>\u001b[0;34m\u001b[0m\n\u001b[0;32m----> 1\u001b[0;31m \u001b[0;32mimport\u001b[0m \u001b[0mgeocoder\u001b[0m\u001b[0;34m\u001b[0m\u001b[0;34m\u001b[0m\u001b[0m\n\u001b[0m\u001b[1;32m      2\u001b[0m \u001b[0mlocation_kyoto\u001b[0m\u001b[0;34m=\u001b[0m\u001b[0;34m'京都駅'\u001b[0m\u001b[0;34m\u001b[0m\u001b[0;34m\u001b[0m\u001b[0m\n\u001b[1;32m      3\u001b[0m \u001b[0mlocation_kawaramati\u001b[0m\u001b[0;34m=\u001b[0m\u001b[0;34m'京都河原町駅'\u001b[0m\u001b[0;34m\u001b[0m\u001b[0;34m\u001b[0m\u001b[0m\n\u001b[1;32m      4\u001b[0m \u001b[0mlocation_sanjo\u001b[0m\u001b[0;34m=\u001b[0m\u001b[0;34m'京阪三条'\u001b[0m\u001b[0;34m\u001b[0m\u001b[0;34m\u001b[0m\u001b[0m\n\u001b[1;32m      5\u001b[0m \u001b[0;34m\u001b[0m\u001b[0m\n",
      "\u001b[0;31mModuleNotFoundError\u001b[0m: No module named 'geocoder'"
     ]
    }
   ],
   "source": [
    "import geocoder\n",
    "location_kyoto='京都駅'\n",
    "location_kawaramati='京都河原町駅'\n",
    "location_sanjo='京阪三条'\n",
    "\n",
    "address_kyoto=geocoder.osm(location_kyoto)\n",
    "print(address_kyoto.latlng)\n",
    "address_kawaramati=geocoder.osm(location_kawaramati)\n",
    "print(address_kawaramati.latlng)\n",
    "address_sanjo=geocoder.osm(location_sanjo)\n",
    "print(address_sanjo.latlng)"
   ]
  },
  {
   "cell_type": "code",
   "execution_count": null,
   "metadata": {},
   "outputs": [],
   "source": [
    "import numpy as np\n",
    "\n",
    "from geopy.distance import geodesic\n",
    "distance_kyoto=[]\n",
    "distance_kawaramchi=[]\n",
    "distance_sanjo=[]\n",
    "\n",
    "for x,y in zip(lat,lng):\n",
    "    location=np.array([x,y])\n",
    "    distance_kyoto.append(geodesic(address_kyoto.latlng,location).m)\n",
    "    distance_kawaramchi.append(geodesic(address_kawaramati.latlng,location).m)\n",
    "    distance_sanjo.append(geodesic(address_sanjo.latlng,location).m)\n",
    "data['distance_kyoto']=distance_kyoto\n",
    "data['distance_kawaramachi']=distance_kawaramchi\n",
    "data['distance_sanjo']=distance_sanjo\n",
    "print(data.distance_kyoto)\n",
    "print(data.distance_kawaramachi)\n",
    "print(data.distance_sanjo)"
   ]
  },
  {
   "cell_type": "code",
   "execution_count": null,
   "metadata": {},
   "outputs": [],
   "source": [
    "data.distance_kyoto\n",
    "print(data.distance_kawaramachi)\n",
    "print(data.distance_sanjo)"
   ]
  },
  {
   "cell_type": "code",
   "execution_count": null,
   "metadata": {},
   "outputs": [],
   "source": [
    "print(budget[0:5])\n",
    "print(distance_kyoto[0:5])"
   ]
  },
  {
   "cell_type": "code",
   "execution_count": null,
   "metadata": {},
   "outputs": [],
   "source": [
    "distance_kawaramachi=data.distance_kawaramachi"
   ]
  },
  {
   "cell_type": "code",
   "execution_count": null,
   "metadata": {},
   "outputs": [],
   "source": [
    "import seaborn as sns\n",
    "budget=pd.DataFrame(budget)\n",
    "distance_kyoto=pd.DataFrame(distance_kyoto)\n",
    "distance_kawaramachi=pd.DataFrame(distance_kawaramachi)\n",
    "distance_sanjo=pd.DataFrame(distance_sanjo)\n",
    "equation_kyoto=pd.concat([budget,distance_kyoto],axis=1)\n",
    "equation_kyoto.columns=['budget.code','distance_kyoto']\n",
    "equation_kawaramachi=pd.concat([budget,distance_kawaramachi],axis=1)\n",
    "equation_kawaramachi.columns=['budget.code','distance_kawaramachi']\n",
    "equation_sanjo=pd.concat([budget,distance_sanjo],axis=1)\n",
    "equation_sanjo.columns=['budget.code','distance_sanjo']\n",
    "print(equation_kyoto)\n",
    "print(equation_kyoto.columns)\n"
   ]
  },
  {
   "cell_type": "code",
   "execution_count": null,
   "metadata": {},
   "outputs": [],
   "source": [
    "import seaborn as sns\n",
    "print(equation_kyoto)\n",
    "sns.jointplot(y='budget.code', x='distance_kyoto',data=equation_kyoto)\n",
    "sns.jointplot(y='budget.code', x='distance_kawaramachi',data=equation_kawaramachi)\n",
    "#sns.jointplot(y='budget.code', x='distance_sanjo',data=equation_sanjo)"
   ]
  },
  {
   "cell_type": "code",
   "execution_count": null,
   "metadata": {},
   "outputs": [],
   "source": []
  },
  {
   "cell_type": "code",
   "execution_count": null,
   "metadata": {
    "scrolled": true
   },
   "outputs": [],
   "source": [
    "data[0:5]"
   ]
  },
  {
   "cell_type": "code",
   "execution_count": null,
   "metadata": {},
   "outputs": [],
   "source": [
    "#!pip install folium"
   ]
  },
  {
   "cell_type": "code",
   "execution_count": null,
   "metadata": {},
   "outputs": [],
   "source": [
    "import folium\n",
    "from folium.plugins import HeatMap\n",
    "\n",
    "places=pd.concat([lat,lng],axis=1)\n",
    "\n",
    "map_heatmap=folium.Map(location=address_kyoto.latlng,zoom_start=10)\n",
    "HeatMap(places,radius=6,blur=5).add_to(map_heatmap)\n",
    "map_heatmap.save('map_heatmap.html')"
   ]
  },
  {
   "cell_type": "code",
   "execution_count": null,
   "metadata": {},
   "outputs": [],
   "source": []
  },
  {
   "cell_type": "code",
   "execution_count": null,
   "metadata": {},
   "outputs": [],
   "source": [
    "print(max(data.distance_kyoto))\n",
    "print(max(data.lat))\n",
    "print(min(data.lat))\n",
    "print(max(data.lng))\n",
    "print(min(data.lng))"
   ]
  },
  {
   "cell_type": "code",
   "execution_count": null,
   "metadata": {},
   "outputs": [],
   "source": [
    "import statsmodels.api as sm\n",
    "from sklearn import linear_model, datasets\n",
    "from sklearn.linear_model import LinearRegression"
   ]
  },
  {
   "cell_type": "code",
   "execution_count": null,
   "metadata": {},
   "outputs": [],
   "source": [
    "#plt.figure(figsize=(12,9))\n",
    "equation1=pd.concat([data['capacity'],data['party_capacity'],data['distance_kyoto'],\n",
    "                     data['distance_kawaramachi'],data['distance_sanjo'],data['budget.code']],axis=1)\n",
    "sns.heatmap(equation1.pct_change().corr(),annot=True,cmap='Reds')"
   ]
  },
  {
   "cell_type": "code",
   "execution_count": null,
   "metadata": {},
   "outputs": [],
   "source": [
    "print(data['middle_area.code'].unique())\n",
    "print(data['genre.code'].unique())"
   ]
  },
  {
   "cell_type": "code",
   "execution_count": null,
   "metadata": {},
   "outputs": [],
   "source": [
    "print(data.distance_kyoto)"
   ]
  },
  {
   "cell_type": "code",
   "execution_count": null,
   "metadata": {},
   "outputs": [],
   "source": [
    "'''budget=data['budget.code']\n",
    "x_list=equation1.drop(data['budget.code'],1)\n",
    "model=sm.OLS(budget,sm.add_constant(x_list))\n",
    "result=model.fit()\n",
    "print(result.summary())\n",
    "print(result.pvalues)'''"
   ]
  },
  {
   "cell_type": "code",
   "execution_count": null,
   "metadata": {},
   "outputs": [],
   "source": [
    "data['distance_kyoto']"
   ]
  },
  {
   "cell_type": "code",
   "execution_count": null,
   "metadata": {},
   "outputs": [],
   "source": [
    "sns.distplot(data.distance_kyoto)"
   ]
  },
  {
   "cell_type": "code",
   "execution_count": null,
   "metadata": {},
   "outputs": [],
   "source": [
    "import matplotlib.pyplot as plt\n",
    "plt.rcParams['font.family'] = 'TakaoGothic'\n",
    "\n",
    "credit_card_true=data[data['card'] == 1]\n",
    "credit_card_false=data[data['card'] == 0]\n",
    "#print(creidt_card_true)\n",
    "print(credit_card_true.describe())\n",
    "print(credit_card_false.describe())\n",
    "\n",
    "points=(credit_card_true['budget.code'],credit_card_false['budget.code'])\n",
    "fig, ax = plt.subplots()\n",
    "\n",
    "bp = ax.boxplot(points)\n",
    "ax.set_xticklabels(['credit_card_true','credit_card_false'])\n",
    "\n",
    "plt.title('Box plot_credit_card')\n",
    "plt.xlabel('card')\n",
    "plt.ylabel('budget')\n",
    "\n",
    "plt.grid()\n",
    "\n",
    "\n",
    "plt.show()\n",
    "\n",
    "plt.hist(credit_card_true['budget.code'])\n",
    "plt.show()\n",
    "\n",
    "plt.hist(credit_card_false['budget.code'])\n",
    "plt.show()"
   ]
  },
  {
   "cell_type": "code",
   "execution_count": null,
   "metadata": {},
   "outputs": [],
   "source": [
    "credit_card_true['credit_card']=credit_card_true['credit_card'].str.strip()\n",
    "credit_card_true['credit_card']=credit_card_true['credit_card'].str.replace(\"{'code': 'c02', 'name': 'マスター'}\",\"M\")\n",
    "credit_card_true['credit_card']=credit_card_true['credit_card'].str.replace('[','')\n",
    "credit_card_true['credit_card']=credit_card_true['credit_card'].str.replace(']','')\n",
    "print(credit_card_true['credit_card'].unique())\n",
    "print(type(credit_card_true['credit_card'][0]))\n",
    "\n",
    "Visa=credit_card_true[credit_card_true['credit_card'].str.contains('V')]\n",
    "Master=credit_card_true[credit_card_true['credit_card'].str.contains('M')]\n",
    "Amex=credit_card_true[credit_card_true['credit_card'].str.contains('A')]\n",
    "Dinars=credit_card_true[credit_card_true['credit_card'].str.contains('D')]\n",
    "JCB=credit_card_true[credit_card_true['credit_card'].str.contains('J')]\n",
    "Discover=credit_card_true[credit_card_true['credit_card'].str.contains('Dis')]\n",
    "Ginren=credit_card_true[credit_card_true['credit_card'].str.contains('G')]"
   ]
  },
  {
   "cell_type": "code",
   "execution_count": null,
   "metadata": {},
   "outputs": [],
   "source": [
    "points_1=(Visa['budget.code'],Master['budget.code'],Amex['budget.code'],Dinars['budget.code'],JCB['budget.code'],\n",
    "         Discover['budget.code'],Ginren['budget.code'])\n",
    "fig, ax = plt.subplots()\n",
    "\n",
    "bp = ax.boxplot(points_1)\n",
    "ax.set_xticklabels(['Visa','Master','Amex','Dinars','JCB','Discover','Ginren'])\n",
    "\n",
    "plt.title('Box plot_credit_card_kind')\n",
    "plt.xlabel('card')\n",
    "plt.ylabel('budget')\n",
    "plt.ylim([0,8000])\n",
    "plt.grid()\n",
    "\n",
    "plt.show()\n",
    "\n",
    "credit_genre=[Visa,Master,Amex,Dinars,JCB,Discover,Ginren]\n",
    "credit_genre_name=['Visa','Master','Amex','Dinars','JCB','Discover','Ginren']\n",
    "\n",
    "for i,r in zip(credit_genre,credit_genre_name):\n",
    "    plt.title('box_plot_'+r)\n",
    "    plt.hist(i['budget.code'])\n",
    "    plt.show()\n",
    "\n",
    "credit_card_VorMorJ=credit_card_true[credit_card_true['credit_card'].str.contains('V'or'M'or'J'or'Dis')]\n",
    "credit_card_others =credit_card_true[~credit_card_true['credit_card'].str.contains('V'or'M'or'J'or'Dis')]\n",
    "\n",
    "points_2=(credit_card_VorMorJ['budget.code'],credit_card_others['budget.code'])\n",
    "fig, ax = plt.subplots()\n",
    "\n",
    "bp = ax.boxplot(points_2)\n",
    "ax.set_xticklabels(['VisaMasterJcbDis','others'])\n",
    "\n",
    "plt.title('Box plot_credit_V_M_J_Dis')\n",
    "plt.xlabel('card')\n",
    "plt.ylabel('budget')\n",
    "#plt.ylim([0,8000])\n",
    "plt.grid()\n"
   ]
  },
  {
   "cell_type": "code",
   "execution_count": null,
   "metadata": {},
   "outputs": [],
   "source": [
    "data.columns"
   ]
  },
  {
   "cell_type": "code",
   "execution_count": null,
   "metadata": {},
   "outputs": [],
   "source": [
    "data_food_genre=data[['lat','lng','budget.code','genre.code']]\n",
    "print(data_food_genre['genre.code'].unique())\n",
    "print(type(data_food_genre['genre.code'].unique()))\n",
    "unique=data_food_genre['genre.code'].unique()\n",
    "food_genre_name=unique.tolist()\n",
    "print(food_genre_name)\n",
    "print(type(food_genre_name))"
   ]
  },
  {
   "cell_type": "code",
   "execution_count": null,
   "metadata": {},
   "outputs": [],
   "source": [
    "data_food_genre"
   ]
  },
  {
   "cell_type": "code",
   "execution_count": null,
   "metadata": {},
   "outputs": [],
   "source": [
    "print(data_food_genre)"
   ]
  },
  {
   "cell_type": "code",
   "execution_count": null,
   "metadata": {},
   "outputs": [],
   "source": [
    "#food_genre_name=(data_food_genre['genre.code'].unique()).tolist\n",
    "colors=['red', 'blue', 'green', 'purple', 'orange', 'darkred',\n",
    "             'lightred', 'beige', 'darkblue', 'darkgreen', 'cadetblue',\n",
    "             'darkpurple', 'white', 'pink', 'lightblue', 'lightgreen',\n",
    "             'gray']\n",
    "\n",
    "map_food_genre=folium.Map(location=address_kyoto.latlng,zoom_start=15)\n",
    "\n",
    "\n",
    "\n",
    " \n",
    "for f,c, in zip(food_genre_name,colors):\n",
    "    print(f,c)\n",
    "    data_food_genre=data[['lat','lng','budget.code','genre.code']]\n",
    "    data_food_genre=data_food_genre[data_food_genre['genre.code'] == f]\n",
    "    places=pd.concat([data_food_genre.lat,data_food_genre.lng],axis=1)\n",
    "   \n",
    "    for i, r in zip(data_food_genre.lat,data_food_genre.lng):\n",
    "        folium.Marker(\n",
    "            location=[i,r],\n",
    "            icon=folium.Icon(color=c),\n",
    "            popup=f,\n",
    "        ).add_to(map_food_genre)    \n",
    "    \n",
    "map_food_genre.save('map_food_genre.html')\n",
    "\n"
   ]
  },
  {
   "cell_type": "code",
   "execution_count": null,
   "metadata": {},
   "outputs": [],
   "source": []
  },
  {
   "cell_type": "code",
   "execution_count": null,
   "metadata": {},
   "outputs": [],
   "source": []
  },
  {
   "cell_type": "code",
   "execution_count": null,
   "metadata": {},
   "outputs": [],
   "source": [
    "print(type(colors))\n",
    "print(type(food_genre_name))\n",
    "print(len(colors),len(food_genre_name))"
   ]
  },
  {
   "cell_type": "code",
   "execution_count": null,
   "metadata": {},
   "outputs": [],
   "source": [
    "print(data_food_genre[0:5])\n",
    "places=pd.concat([data_food_genre.lat,data_food_genre.lng],axis=1)\n",
    "print(places)"
   ]
  },
  {
   "cell_type": "code",
   "execution_count": null,
   "metadata": {},
   "outputs": [],
   "source": [
    "food_genre_name=['焼肉・ホルモン', '韓国料理' ,'ダイニングバー・バル', '居酒屋' ,'イタリアン・フレンチ', 'カフェ・スイーツ', '和食',\n",
    " 'お好み焼き・もんじゃ', 'アジア・エスニック', '各国料理' ,'洋食', '創作料理', '中華', 'カラオケ・パーティー', 'ラーメン',\n",
    " 'バー・カクテル', 'その他']\n",
    "print(len(food_genre_name))\n",
    "print(len(colors))\n",
    "print(type(food_genre_name[0]))"
   ]
  },
  {
   "cell_type": "code",
   "execution_count": null,
   "metadata": {},
   "outputs": [],
   "source": [
    "data.columns"
   ]
  },
  {
   "cell_type": "code",
   "execution_count": null,
   "metadata": {},
   "outputs": [],
   "source": [
    "%matplotlib inline\n",
    "\n",
    "import mca\n",
    "data_corres=data[['band', 'barrier_free', 'card', 'charter', 'child',\n",
    "       'course','english', 'free_drink', 'free_food',\n",
    "       'horigotatsu', 'karaoke', 'ktai_coupon',  'lunch',\n",
    "       'midnight', 'non_smoking', 'parking', 'pet',\n",
    "       'private_room', 'show', 'tatami', 'tv', 'wifi', 'budget.code',\n",
    "       'genre.code',\n",
    "       'middle_area.code']]\n",
    "\n",
    "data_corres=data[['band', 'barrier_free', 'card', 'charter', 'child',\n",
    "       'course','english', 'free_drink', 'free_food',\n",
    "       'horigotatsu', 'karaoke', 'ktai_coupon',  'lunch',\n",
    "       'midnight', 'non_smoking', 'parking', 'pet',\n",
    "       'private_room', 'show', 'tatami', 'tv', 'wifi', 'budget.code',\n",
    "       'genre.code',\n",
    "       'middle_area.code']]\n",
    "\n",
    "data_corres = data_corres[data_corres['wifi'] != '未確認']\n",
    "data_corres = data_corres[data_corres['non_smoking'] != '未確認']\n",
    "print('3333333333333333333333333',data_corres.dtypes)\n",
    "data_corres.astype(object)\n",
    "data_corres=pd.get_dummies(data_corres.astype(object))\n",
    "#data_corres.to_string(index=False)\n",
    "print(type(data_corres))\n",
    "\n",
    "#data_corres.to_csv('data_corres.csv',index=False,encoding='cp932')\n",
    "\n",
    "#data_corres=pd.read_table('/home/matsuo/semi_3_1/data_corres.csv',encoding='cp932')\n",
    "\n",
    "#data_corres.to_csv('restaurant_kyoto_cross.csv',index=False,encoding='utf_8_sig')\n",
    "#cross=pd.read_csv('/home/matsuo/semi_3_1/restaurant_kyoto_cross.csv',encoding='UTF-8')\n",
    "#cross = pd.get_dummies(cross)\n",
    "\n",
    "#cross = pd.read_('cross.csv', sep=',', skiprows=1, index_col=0, header=0)\n",
    "print(data_corres[0:5])\n",
    "import matplotlib.pyplot as plot\n",
    "plot.rcParams['font.family'] = 'TakaoGothic'\n",
    "\n",
    "mca_counts = mca.MCA(data_corres)\n",
    "rows = mca_counts.fs_r(N=2)\n",
    "cols = mca_counts.fs_c(N=2)\n",
    "\n",
    "x = rows[:,0]\n",
    "y = rows[:,1]\n",
    "\n",
    "plot.figure(figsize=(20,15))\n",
    "\n",
    "'''plot.scatter(rows[:,0], rows[:,1], c='b',marker='o')\n",
    "labels = data_corres.index\n",
    "for label,x,y in zip(labels,rows[:,0],rows[:,1]):\n",
    "    plot.annotate(label,xy = (x, y))'''\n",
    "\n",
    "plot.scatter(cols[:,0], cols[:,1], c='r',marker='x')\n",
    "labels = data_corres.columns\n",
    "for label,x,y in zip(labels,cols[:,0],cols[:,1]):\n",
    "    plot.annotate(label,xy = (x, y))\n",
    "#plot.xlim(-0.0000001-0.0000035)\n",
    "#plot.ylim(-0.0000002,0.0000002)\n",
    "    \n",
    "plot.show()"
   ]
  },
  {
   "cell_type": "code",
   "execution_count": null,
   "metadata": {},
   "outputs": [],
   "source": [
    "%matplotlib inline\n",
    "data_corres_2=data[['budget.code',\n",
    "       'genre.code',\n",
    "       'middle_area.code']]\n",
    "Yxxx={'Y432':'河原町・木屋町',\n",
    "      'Y365':'烏丸御池・四条烏丸',\n",
    "      'Y433':'祇園・先斗町',\n",
    "      'Y431':'北区・上京区',\n",
    "      'Y435':'烏丸五条・京都駅周辺',\n",
    "      'Y434':'四条大宮・西院・右京区・西京区',\n",
    "      'Y430':'左京区・山科区',\n",
    "     }\n",
    "\n",
    "\n",
    "data_corres_2['middle_area.code']=data_corres_2['middle_area.code'].str.replace('Y432','河原町・木屋町')\n",
    "data_corres_2['middle_area.code']=data_corres_2['middle_area.code'].str.replace('Y365','烏丸御池・四条烏丸')\n",
    "data_corres_2['middle_area.code']=data_corres_2['middle_area.code'].str.replace('Y433','祇園・先斗町')\n",
    "data_corres_2['middle_area.code']=data_corres_2['middle_area.code'].str.replace('Y435','烏丸五条・京都駅周辺')\n",
    "data_corres_2['middle_area.code']=data_corres_2['middle_area.code'].str.replace('Y431','北区・上京区')\n",
    "data_corres_2['middle_area.code']=data_corres_2['middle_area.code'].str.replace('Y434','四条大宮・西院・右京区・西京区')\n",
    "data_corres_2['middle_area.code']=data_corres_2['middle_area.code'].str.replace('Y430','左京区・山科区')\n",
    "#'Y432' 'Y365' 'Y433' 'Y431' 'Y435' 'Y434' 'Y430'\n",
    "\n",
    "print(data_corres_2[0:5])\n",
    "data_corres_2.astype(object)\n",
    "data_corres_2=pd.get_dummies(data_corres_2.astype(object))\n",
    "\n",
    "mca_counts = mca.MCA(data_corres_2)\n",
    "rows = mca_counts.fs_r(N=2)\n",
    "cols = mca_counts.fs_c(N=2)\n",
    "\n",
    "x = rows[:,0]\n",
    "y = rows[:,1]\n",
    "\n",
    "plot.figure(figsize=(22,20))\n",
    "plot.rcParams['font.family'] = 'TakaoGothic'\n",
    "\n",
    "plot.scatter(cols[:,0], cols[:,1], c='r',marker='x')\n",
    "labels = data_corres_2.columns\n",
    "for label,x,y in zip(labels,cols[:,0],cols[:,1]):\n",
    "    plot.annotate(label,xy = (x, y))\n",
    "    \n",
    "plot.show()"
   ]
  },
  {
   "cell_type": "code",
   "execution_count": null,
   "metadata": {},
   "outputs": [],
   "source": [
    "Yxxx={'Y432':'河原町・木屋町',\n",
    "      'Y365':'烏丸御池・四条烏丸',\n",
    "      'Y433':'祇園・先斗町',\n",
    "      'Y431':'北区・上京区',\n",
    "      'Y435':'烏丸五条・京都駅周辺',\n",
    "      'Y434':'四条大宮・西院・右京区・西京区',\n",
    "      'Y430':'左京区・山科区',\n",
    "     }\n",
    "for i,r in Yxxx.items():\n",
    "    print(i,r)\n",
    "    data=data\n",
    "    region=data[data['middle_area.code']==i]\n",
    "    region_genre=region['genre.code']\n",
    "    "
   ]
  },
  {
   "cell_type": "code",
   "execution_count": null,
   "metadata": {
    "scrolled": true
   },
   "outputs": [],
   "source": [
    "data_ass=data[['band', 'barrier_free',  'card', 'charter', 'child',\n",
    "       'course', 'english', 'free_drink', 'free_food',\n",
    "       'horigotatsu', 'karaoke', 'ktai_coupon',  'lunch',\n",
    "       'midnight', 'non_smoking', 'parking',  'pet',\n",
    "       'private_room', 'show', 'tatami', 'tv', 'wifi', 'budget.code',\n",
    "       'genre.code',\n",
    "       'middle_area.code',\n",
    "       ]]\n",
    "\n",
    "'''for i,r in zip(range(1,17+1),food_genre_name):\n",
    "    print(i,r)\n",
    "    data_ass['genre.code']=data_ass['genre.code'].str.replace(r,str(i))\n",
    "data_ass['genre.code'].head(40)'''\n",
    "\n",
    "\n",
    "for i,r in Yxxx.items():\n",
    "    data_ass['middle_area.code']=data_ass['middle_area.code'].str.replace(i,r)\n",
    "data_ass.head()   "
   ]
  },
  {
   "cell_type": "code",
   "execution_count": null,
   "metadata": {},
   "outputs": [],
   "source": [
    "import collections\n",
    "import matplotlib.pyplot as plt\n",
    "data_ass=data[['band', 'barrier_free',  'card', 'charter', 'child',\n",
    "       'course', 'english', 'free_drink', 'free_food',\n",
    "       'horigotatsu', 'karaoke', 'ktai_coupon',  'lunch',\n",
    "       'midnight', 'non_smoking', 'parking',  'pet',\n",
    "       'private_room', 'show', 'tatami', 'tv', 'wifi', 'budget.code',\n",
    "       'genre.code',\n",
    "       'middle_area.code',\n",
    "       ]]\n",
    "data_ass['middle_area.code'].unique()\n",
    "region_name_list=['Y432', 'Y365', 'Y433', 'Y431', 'Y435', 'Y434', 'Y430']\n",
    "\n",
    "\n",
    "SUM_allregion=len(data_ass['middle_area.code'])\n",
    "\n",
    "U=data_ass['genre.code'].unique()\n",
    "print(U)\n",
    "U=U.tolist()\n",
    "F=len(U)\n",
    "print(F)\n",
    "Left=list(range(1,F+1))\n",
    "allregion_food_genre=data_ass['genre.code']\n",
    "allregion_count=collections.Counter(allregion_food_genre)    \n",
    "print(allregion_count)\n",
    "Height=[]\n",
    "Labels=[]\n",
    "\n",
    "for x,y in allregion_count.items():\n",
    "    print(x,y)\n",
    "    P=y/SUM_allregion\n",
    "    Height.append(P)\n",
    "    Labels.append(x)\n",
    "print(len(Left),len(Height),len(Labels))\n",
    "plt.bar(Left, Height,tick_label=Labels)\n",
    "plt.rcParams['figure.figsize'] = (40,15)\n",
    "plt.show()\n",
    "\n",
    "\n",
    "for i,n in enumerate(region_name_list,1):\n",
    "    height=[]\n",
    "    labels=[]\n",
    "    print(i,n,Yxxx[n])\n",
    "    region_data=data_ass[data_ass['middle_area.code']==n]\n",
    "    print(region_data['genre.code'][0:5])\n",
    "    region_food_genre=region_data['genre.code']\n",
    "    region_count=collections.Counter(region_food_genre)\n",
    "    print(region_count)\n",
    "    SUM=len(region_data['genre.code'])\n",
    "    U=region_data['genre.code'].unique()\n",
    "    print(U)\n",
    "    U=U.tolist()\n",
    "    F=len(U)\n",
    "    print(F)\n",
    "    left=list(range(1,F+1)) \n",
    "    for x,y in region_count.items():\n",
    "        print(x,y)\n",
    "        P=y/SUM\n",
    "        height.append(P)\n",
    "        labels.append(x)\n",
    "    print(len(left),len(height),len(labels))\n",
    "    plt.bar(left, height,tick_label=labels)\n",
    "    plt.rcParams['figure.figsize'] = (40,15)\n",
    "    plt.show()\n",
    "    data_ass=data[['band', 'barrier_free',  'card', 'charter', 'child',\n",
    "       'course', 'english', 'free_drink', 'free_food',\n",
    "       'horigotatsu', 'karaoke', 'ktai_coupon',  'lunch',\n",
    "       'midnight', 'non_smoking', 'parking',  'pet',\n",
    "       'private_room', 'show', 'tatami', 'tv', 'wifi', 'budget.code',\n",
    "       'genre.code',\n",
    "       'middle_area.code',\n",
    "       ]]"
   ]
  },
  {
   "cell_type": "code",
   "execution_count": null,
   "metadata": {},
   "outputs": [],
   "source": [
    "data_ass=data[['band', 'barrier_free',  'card', 'charter', 'child',\n",
    "       'course', 'english', 'free_drink', 'free_food',\n",
    "       'horigotatsu', 'karaoke', 'ktai_coupon',  'lunch',\n",
    "       'midnight', 'non_smoking', 'parking',  'pet',\n",
    "       'private_room', 'show', 'tatami', 'tv', 'wifi', 'budget.code',\n",
    "       'genre.code',\n",
    "       'middle_area.code',\n",
    "       ]]\n",
    "data_ass['middle_area.code'].unique()\n",
    "region_name_list=['Y432', 'Y365', 'Y433', 'Y431', 'Y435', 'Y434', 'Y430']\n",
    "\n",
    "\n",
    "SUM_allregion=len(data_ass['middle_area.code'])\n",
    "\n",
    "U=data_ass['genre.code'].unique()\n",
    "print(U)\n",
    "U=U.tolist()\n",
    "F=len(U)\n",
    "print(F)\n",
    "\n",
    "allregion_food_genre=data_ass['genre.code']\n",
    "allregion_count=collections.Counter(allregion_food_genre)    \n",
    "print(allregion_count)\n",
    "Height=[]\n",
    "Labels=[]\n",
    "\n",
    "for x,y in allregion_count.items():\n",
    "    print(x,y)\n",
    "    P=y/SUM_allregion\n",
    "    Height.append(P)\n",
    "    Labels.append(x)\n",
    "print(len(Left),len(Height),len(Labels))\n",
    "Left=np.arange(len(Height))\n",
    "plt.bar(Left, Height,tick_label=Labels)\n",
    "plt.rcParams['figure.figsize'] = (40,15)\n",
    "plt.show()\n",
    "\n",
    "width = 0.3\n",
    "for i,n in enumerate(region_name_list,1):\n",
    "    height=[]\n",
    "    labels=[]\n",
    "    Height=[]\n",
    "    Labels=[]\n",
    "    print(i,n,Yxxx[n])\n",
    "    region_data=data_ass[data_ass['middle_area.code']==n]\n",
    "    print(region_data['genre.code'][0:5])\n",
    "    region_food_genre=region_data['genre.code']\n",
    "    region_count=collections.Counter(region_food_genre)\n",
    "    print(region_count)\n",
    "    SUM=len(region_data['genre.code'])\n",
    "    U=region_data['genre.code'].unique()\n",
    "    print(U)\n",
    "    U=U.tolist()\n",
    "    F=len(U)\n",
    "    print(F)\n",
    "    #left=list(range(1,F+1)) \n",
    "    for x,y in region_count.items():\n",
    "        print(x,y)\n",
    "        p=y/SUM\n",
    "        height.append(p)\n",
    "        labels.append(x)\n",
    "        Y=allregion_count[x]\n",
    "        print('\\\\\\\\\\\\\\\\\\\\\\\\\\\\\\\\\\\\\\\\\\\\',Y)\n",
    "        P=Y/SUM_allregion\n",
    "        Height.append(P)\n",
    "        Labels.append(x)\n",
    "    left = np.arange(len(height))\n",
    "    Left = np.arange(len(Height))\n",
    "    print(len(left),len(height),len(labels),len(Left),len(Height),len(Labels))\n",
    "    \n",
    "    plt.bar(left, height,tick_label=labels,color='b',width=width,align=\"center\",label=Yxxx[n])\n",
    "    plt.bar(left+width, Height,tick_label=labels,color='g',width=width,align=\"center\",label='all_region')\n",
    "    plt.rcParams['figure.figsize'] = (40,15)\n",
    "    plt.legend(loc=2)\n",
    "    plt.xticks(left + width/2, labels)\n",
    "    plt.show()\n",
    "    data_ass=data[['band', 'barrier_free',  'card', 'charter', 'child',\n",
    "       'course', 'english', 'free_drink', 'free_food',\n",
    "       'horigotatsu', 'karaoke', 'ktai_coupon',  'lunch',\n",
    "       'midnight', 'non_smoking', 'parking',  'pet',\n",
    "       'private_room', 'show', 'tatami', 'tv', 'wifi', 'budget.code',\n",
    "       'genre.code',\n",
    "       'middle_area.code',\n",
    "       ]]"
   ]
  },
  {
   "cell_type": "code",
   "execution_count": null,
   "metadata": {},
   "outputs": [],
   "source": [
    "for s,t in allregion_count.items():\n",
    "    print(allregion_count[s])"
   ]
  },
  {
   "cell_type": "code",
   "execution_count": null,
   "metadata": {},
   "outputs": [],
   "source": [
    "#data_ass=pd.get_dummies(data_ass.astype(object),columns=['genre.code','middle_area.code','budget.code'])\n",
    "data_ass.to_csv('restaurant_kyoto_ass.csv',index=True,encoding='utf_8_sig',sep=',')\n",
    "#data_ass.to_csv('restaurant_kyoto_ass_new.csv',index=True,encoding='cp932')\n"
   ]
  },
  {
   "cell_type": "code",
   "execution_count": null,
   "metadata": {},
   "outputs": [],
   "source": [
    "data_ass.head()"
   ]
  },
  {
   "cell_type": "code",
   "execution_count": null,
   "metadata": {},
   "outputs": [],
   "source": [
    "data_ass['band']=data_ass['band'].str.replace('0','無')"
   ]
  },
  {
   "cell_type": "code",
   "execution_count": null,
   "metadata": {},
   "outputs": [],
   "source": [
    "data_ass['band']"
   ]
  },
  {
   "cell_type": "code",
   "execution_count": null,
   "metadata": {},
   "outputs": [],
   "source": [
    "fn = '/home/matsuo/semi_3_1/restaurant_kyoto_ass.csv'\n",
    "\n",
    "with open(fn, 'r') as f:\n",
    "    s = f.read()\n",
    "s=s.replace('0','有')\n",
    "\n",
    "with open(fn, 'w') as f:\n",
    "    f.write(s)"
   ]
  },
  {
   "cell_type": "code",
   "execution_count": null,
   "metadata": {},
   "outputs": [],
   "source": [
    "#data_ass=data[['band', 'barrier_free',  'card', 'charter', 'child',\n",
    "       'course', 'english', 'free_drink', 'free_food',\n",
    "       'horigotatsu', 'karaoke', 'ktai_coupon',  'lunch',\n",
    "       'midnight', 'non_smoking', 'parking',  'pet',\n",
    "       'private_room', 'show', 'tatami', 'tv', 'wifi', 'budget.code',\n",
    "       'genre.code',\n",
    "       'middle_area.code',\n",
    "       ]]\n"
   ]
  },
  {
   "cell_type": "code",
   "execution_count": null,
   "metadata": {},
   "outputs": [],
   "source": [
    "data_ass"
   ]
  },
  {
   "cell_type": "code",
   "execution_count": null,
   "metadata": {},
   "outputs": [],
   "source": [
    "data.columns"
   ]
  },
  {
   "cell_type": "code",
   "execution_count": null,
   "metadata": {},
   "outputs": [],
   "source": [
    "data_cluster=data.drop(['credit_card','distance_sanjo','large_area.code','large_service_area.code',\n",
    "                       'service_area.code','small_area.code'],axis=1)\n",
    "\n",
    "\n",
    "data_cluster['middle_area.code']=data_cluster['middle_area.code'].str.replace('Y432','河原町・木屋町')\n",
    "data_cluster['middle_area.code']=data_cluster['middle_area.code'].str.replace('Y365','烏丸御池・四条烏丸')\n",
    "data_cluster['middle_area.code']=data_cluster['middle_area.code'].str.replace('Y433','祇園・先斗町')\n",
    "data_cluster['middle_area.code']=data_cluster['middle_area.code'].str.replace('Y435','烏丸五条・京都駅周辺')\n",
    "data_cluster['middle_area.code']=data_cluster['middle_area.code'].str.replace('Y431','北区・上京区')\n",
    "data_cluster['middle_area.code']=data_cluster['middle_area.code'].str.replace('Y434','四条大宮・西院・右京区・西京区')\n",
    "data_cluster['middle_area.code']=data_cluster['middle_area.code'].str.replace('Y430','左京区・山科区')\n",
    "\n",
    "data_cluster=pd.get_dummies(data_cluster.astype(object),columns=['genre.code','middle_area.code'])\n",
    "#data_cluster.drop('middle_area.code',axis=1)\n",
    "\n",
    "print(len(data_cluster))"
   ]
  },
  {
   "cell_type": "code",
   "execution_count": null,
   "metadata": {},
   "outputs": [],
   "source": [
    "data_cluster"
   ]
  },
  {
   "cell_type": "code",
   "execution_count": null,
   "metadata": {},
   "outputs": [],
   "source": [
    "%matplotlib inline\n",
    "import sklearn\n",
    "from sklearn.cluster import KMeans\n",
    "\n",
    "X=data_cluster.iloc[:,0:2]\n",
    "\n",
    "SSE=[]\n",
    "for i in range(1,11):\n",
    "    model = KMeans(n_clusters=i,\n",
    "               init='k-means++',\n",
    "               n_init=5,\n",
    "               max_iter=10,\n",
    "               random_state=0)\n",
    "    model.fit(X)\n",
    "    SSE.append(model.inertia_)\n",
    "\n",
    "# グラフの描画\n",
    "plt.plot(range(1,11), SSE, marker='o')\n",
    "plt.xticks(np.arange(1,11,1))\n",
    "plt.xlabel('Number of clusters')\n",
    "plt.ylabel('SSE')\n",
    "plt.show()\n",
    "\n"
   ]
  },
  {
   "cell_type": "code",
   "execution_count": null,
   "metadata": {},
   "outputs": [],
   "source": [
    "from sklearn import datasets, preprocessing\n",
    "from sklearn.cluster import KMeans\n",
    "\n",
    "'''X=data_cluster\n",
    "sc=preprocessing.StandardScaler()\n",
    "sc.fit(X)\n",
    "X_norm=sc.transform(X)\n",
    "\n",
    "cls = KMeans(n_clusters=4)\n",
    "result = cls.fit(X_norm)\n",
    "\n",
    "plt.scatter(X_norm[:,0],X_norm[:,1], c=result.labels_)\n",
    "plt.scatter(result.cluster_centers_[:,0],result.cluster_centers_[:,1],s=250, marker='*',c='red')\n",
    "plt.show()'''"
   ]
  },
  {
   "cell_type": "code",
   "execution_count": null,
   "metadata": {},
   "outputs": [],
   "source": [
    "from sklearn.cluster import KMeans\n",
    "data=data_cluster　 #実際に分析したいデータを宣言してください。\n",
    "clf = KMeans(n_clusters=4, max_iter = 100)　 #n_clustersでクラスタ数、max_iterで繰り返しの最大の回数を指定してください。\n",
    "cluster = clf.fit_predict(data)"
   ]
  },
  {
   "cell_type": "code",
   "execution_count": null,
   "metadata": {},
   "outputs": [],
   "source": [
    "from sklearn.datasets import load_iris\n"
   ]
  },
  {
   "cell_type": "code",
   "execution_count": null,
   "metadata": {},
   "outputs": [],
   "source": [
    "km = KMeans(n_clusters=4, init='k-means++', n_init=10, max_iter=300, tol=1e-04, random_state=0)\n",
    "clusters_sklearn = km.fit_predict(data)\n",
    "\n",
    "p = plt.subplot()\n",
    "p.scatter(data[clusters_sklearn==0, 0], data[clusters_sklearn==0, 1], c = 'red')\n",
    "p.scatter(data[clusters_sklearn==1, 0], data[clusters_sklearn==1, 1], c = 'white', edgecolors='black')\n",
    "p.scatter(km.cluster_centers_[:, 0], km.cluster_centers_[: ,1], color='orange', marker='s')\n",
    "p.set_aspect('equal')\n",
    "plt.show()"
   ]
  },
  {
   "cell_type": "code",
   "execution_count": null,
   "metadata": {},
   "outputs": [],
   "source": []
  },
  {
   "cell_type": "code",
   "execution_count": null,
   "metadata": {},
   "outputs": [],
   "source": []
  }
 ],
 "metadata": {
  "kernelspec": {
   "display_name": "Python 3",
   "language": "python",
   "name": "python3"
  },
  "language_info": {
   "codemirror_mode": {
    "name": "ipython",
    "version": 3
   },
   "file_extension": ".py",
   "mimetype": "text/x-python",
   "name": "python",
   "nbconvert_exporter": "python",
   "pygments_lexer": "ipython3",
   "version": "3.8.8"
  }
 },
 "nbformat": 4,
 "nbformat_minor": 4
}
